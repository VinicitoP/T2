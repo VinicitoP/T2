{
 "cells": [
  {
   "cell_type": "markdown",
   "id": "1d4e3b4c-eedd-48bb-b807-379573d23bca",
   "metadata": {},
   "source": [
    "# Programa T2 para pesquisar produto"
   ]
  },
  {
   "cell_type": "code",
   "execution_count": 2,
   "id": "ed8a59f5-01cd-41e1-82c7-6b35cc09b034",
   "metadata": {},
   "outputs": [],
   "source": [
    "import numpy\n"
   ]
  },
  {
   "cell_type": "code",
   "execution_count": null,
   "id": "36bfd9a5-81ae-4381-ae5c-7b059ff5abe1",
   "metadata": {},
   "outputs": [],
   "source": []
  }
 ],
 "metadata": {
  "kernelspec": {
   "display_name": "Python 3 (ipykernel)",
   "language": "python",
   "name": "python3"
  },
  "language_info": {
   "codemirror_mode": {
    "name": "ipython",
    "version": 3
   },
   "file_extension": ".py",
   "mimetype": "text/x-python",
   "name": "python",
   "nbconvert_exporter": "python",
   "pygments_lexer": "ipython3",
   "version": "3.11.2"
  }
 },
 "nbformat": 4,
 "nbformat_minor": 5
}
